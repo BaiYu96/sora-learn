{
 "cells": [
  {
   "cell_type": "markdown",
   "id": "a6b573d4-3332-4eec-8ed7-d89a2658cb6f",
   "metadata": {},
   "source": [
    "## 准备"
   ]
  },
  {
   "cell_type": "code",
   "execution_count": null,
   "id": "c60ea58a-9276-4b16-85e9-8830e1482e26",
   "metadata": {},
   "outputs": [],
   "source": [
    "# 拉取llama.np仓库\n",
    "!git clone https://github.com/hscspring/llama.np"
   ]
  },
  {
   "cell_type": "code",
   "execution_count": 5,
   "id": "3954f919-22ea-491d-82d3-9a91daf35055",
   "metadata": {
    "tags": []
   },
   "outputs": [
    {
     "name": "stdout",
     "output_type": "stream",
     "text": [
      "/root/sora-tutorial/docs/chapter2/chapter2_2/attention-llm/llm/llama.np\n"
     ]
    }
   ],
   "source": [
    "%cd llama.np/"
   ]
  },
  {
   "cell_type": "code",
   "execution_count": null,
   "id": "3e128a91-c556-45a6-9a15-ab3b32512f32",
   "metadata": {},
   "outputs": [],
   "source": [
    "# 首先需要使用 huggingface 官方提供的 huggingface-cli 命令行工具。安装依赖:\n",
    "!pip install huggingface_hub"
   ]
  },
  {
   "cell_type": "code",
   "execution_count": null,
   "id": "7a9d38ef-ab44-49bc-8fbd-ea7fb0dca02e",
   "metadata": {},
   "outputs": [],
   "source": [
    "# 从这里下载模型 https://hf-mirror.com/karpathy/tinyllamas/tree/main\n",
    "# 放到llama.np目录"
   ]
  },
  {
   "cell_type": "code",
   "execution_count": null,
   "id": "8aac877d-a032-468b-8ac0-872b6409cdc2",
   "metadata": {},
   "outputs": [],
   "source": [
    "import os\n",
    "\n",
    "# 设置环境变量\n",
    "os.environ['HF_ENDPOINT'] = 'https://hf-mirror.com'\n",
    "\n",
    "# 下载模型\n",
    "os.system('huggingface-cli download --resume-download karpathy/tinyllamas  stories15M.bin --local-dir /root/sora-tutorial/docs/chapter2/chapter2_2/attention-llm/llm/llama.np')"
   ]
  },
  {
   "cell_type": "code",
   "execution_count": 6,
   "id": "75d85e08-6291-4322-89b7-144a8e2110a1",
   "metadata": {},
   "outputs": [],
   "source": [
    "# 转换格式\n",
    "!python3 convert_bin_llama_to_np.py stories15M.bin"
   ]
  },
  {
   "cell_type": "code",
   "execution_count": null,
   "id": "01275c0f-8599-45f0-a212-f1c0dbbcc795",
   "metadata": {
    "tags": []
   },
   "outputs": [],
   "source": [
    "!ls -l "
   ]
  },
  {
   "cell_type": "code",
   "execution_count": null,
   "id": "852a4d13-f716-4ab2-91c6-56e902dfcda4",
   "metadata": {
    "tags": []
   },
   "outputs": [],
   "source": [
    "# 生成\n",
    "!python3 main.py \"Once upon\""
   ]
  },
  {
   "cell_type": "markdown",
   "id": "f5ba5b6f-946d-4140-9dd2-145cde4c515b",
   "metadata": {},
   "source": [
    "## LLaMA"
   ]
  },
  {
   "cell_type": "markdown",
   "id": "717a224a-72c0-46e2-ba9d-34b0c2708e59",
   "metadata": {},
   "source": [
    "- Tokenize\n",
    "- Decoding\n",
    "- Transformer Block"
   ]
  },
  {
   "cell_type": "markdown",
   "id": "82f31fac-f4bd-40dd-a221-24aae8e2ace8",
   "metadata": {},
   "source": [
    "![](https://qnimg.lovevivian.cn/blog-llama-arch.jpg)"
   ]
  },
  {
   "cell_type": "code",
   "execution_count": 7,
   "id": "7cd63dbf-1bda-4b80-838d-0d1b123cb93f",
   "metadata": {
    "tags": []
   },
   "outputs": [],
   "source": [
    "from config import ModelArgs\n",
    "from model import Llama\n",
    "from tokenizer import Tokenizer\n",
    "import numpy as np"
   ]
  },
  {
   "cell_type": "code",
   "execution_count": 8,
   "id": "87905219-fd0d-4b78-b2d4-9200c8ac8bca",
   "metadata": {
    "tags": []
   },
   "outputs": [],
   "source": [
    "args = ModelArgs(288, 6, 6, 6, 32000, None, 256)\n",
    "\n",
    "token_model_path = \"./tokenizer.model.np\"\n",
    "model_path = \"./stories15M.model.npz\"\n",
    "\n",
    "tok = Tokenizer(token_model_path)\n",
    "llama = Llama(model_path, args)"
   ]
  },
  {
   "cell_type": "code",
   "execution_count": 9,
   "id": "92579d0b-4990-4747-bc5a-b72e5dfc9140",
   "metadata": {
    "tags": []
   },
   "outputs": [
    {
     "name": "stdout",
     "output_type": "stream",
     "text": [
      "Once uponay, there wa a little boy named Timmy. Timmy loved to explore the forest near hi house. One day, he found a big bush full of berrie. He wa very happy and started to pick the berrie. Suddenly, he heard a loud growling noise. He got scared and looked around.\n",
      "A big, hairy bear appeared from the bush! Timmy didn't know what to do, but he remembered hi mom' word: \"If you ever feel scared, just walk up to the bear and whisper to him.\" So, Timmy waved to the bear and the bear came closer. Timmy said \"Hello Mr. Bear! I wa playing hide and seek and I got lost. Can you help me find my way back home?\"\n",
      "The bear smiled and said \"Of course! Follow me, Timmy!\" The bear led Timmy back to hi house. Timmy wa so happy to be home again and thanked the bear. He also told hi mom about the big, hairy bear he met. Hi mom wa surprised to see Timmy and asked him why he wa so scared. Timmy told her about the bear and how he accidentally stepped on hi foot."
     ]
    }
   ],
   "source": [
    "prompt = \"Once upon\"\n",
    "\n",
    "ids = tok.encode(prompt)\n",
    "input_ids = np.array([ids], dtype=np.int32)\n",
    "token_num = input_ids.shape[1]\n",
    "\n",
    "print(prompt, end=\"\")\n",
    "for ids in llama.generate(input_ids, args.max_seq_len, True, 1.0, 0.9, 0):\n",
    "    output_ids = ids[0].tolist()\n",
    "    if output_ids[-1] in [tok.eos_id, tok.bos_id]:\n",
    "        break\n",
    "    output_text = tok.decode(output_ids)\n",
    "    print(output_text, end=\"\")"
   ]
  }
 ],
 "metadata": {
  "kernelspec": {
   "display_name": "Python 3 (ipykernel)",
   "language": "python",
   "name": "python3"
  },
  "language_info": {
   "codemirror_mode": {
    "name": "ipython",
    "version": 3
   },
   "file_extension": ".py",
   "mimetype": "text/x-python",
   "name": "python",
   "nbconvert_exporter": "python",
   "pygments_lexer": "ipython3",
   "version": "3.8.10"
  }
 },
 "nbformat": 4,
 "nbformat_minor": 5
}
